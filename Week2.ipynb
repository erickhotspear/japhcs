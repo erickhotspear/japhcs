{
 "cells": [
  {
   "cell_type": "code",
   "execution_count": 1,
   "id": "06bde5e5-4f03-4647-b4db-7944a740d90d",
   "metadata": {},
   "outputs": [],
   "source": [
    "#Write a program that accepts user input to create a list of integers. Then, compute the sum of all the integers in the list."
   ]
  },
  {
   "cell_type": "code",
   "execution_count": 7,
   "id": "6ba6ff83-965e-468d-9ce2-d37b16c6a888",
   "metadata": {},
   "outputs": [
    {
     "name": "stdin",
     "output_type": "stream",
     "text": [
      "enter a number 1\n",
      "enter a number 1\n",
      "enter a number 1\n",
      "enter a number 1\n",
      "enter a number 1\n"
     ]
    },
    {
     "name": "stdout",
     "output_type": "stream",
     "text": [
      "[1, 1, 1, 1, 1]\n",
      "Sum 5\n"
     ]
    }
   ],
   "source": [
    "list=[]\n",
    "sum=0\n",
    "for i in range(0,5):\n",
    "    n=int(input(\"enter a number\"))\n",
    "    list.append(n)\n",
    "    sum+=n\n",
    "print(list)\n",
    "print('Sum',sum)"
   ]
  },
  {
   "cell_type": "code",
   "execution_count": null,
   "id": "9d9fef70-290c-4f8d-8c99-818c72da2021",
   "metadata": {},
   "outputs": [],
   "source": [
    "#Create a tuple containing the names of five of your favorite books. Then, use a for loop to print each book name on a separate line."
   ]
  },
  {
   "cell_type": "code",
   "execution_count": 15,
   "id": "8903cfbf-8c62-46d6-868b-f1e59c19578c",
   "metadata": {},
   "outputs": [
    {
     "name": "stdout",
     "output_type": "stream",
     "text": [
      "Math\n",
      "Science\n",
      "Biology\n",
      "Computer\n",
      "IT\n"
     ]
    }
   ],
   "source": [
    "books=(\"Math\",\"Science\",\"Biology\",\"Computer\",\"IT\")\n",
    "for i in books:\n",
    "    print(i)\n"
   ]
  },
  {
   "cell_type": "code",
   "execution_count": 17,
   "id": "826cd48f-bbf8-403e-a6a4-7a4edcb60340",
   "metadata": {},
   "outputs": [],
   "source": [
    "#Write a program that uses a dictionary to store information about a person, such as their name, age, and favorite color. \n",
    "#Ask the user for input and store the information in the dictionary. Then, print the dictionary to the console."
   ]
  },
  {
   "cell_type": "code",
   "execution_count": 21,
   "id": "f09db599-4130-4ceb-8ffb-b67f6f8ed1e1",
   "metadata": {},
   "outputs": [
    {
     "name": "stdin",
     "output_type": "stream",
     "text": [
      "Enter your name: n\n",
      "Enter your age: 12\n",
      "Enter your color: g\n"
     ]
    },
    {
     "name": "stdout",
     "output_type": "stream",
     "text": [
      "{'name:': 'n', 'age:': 12, 'color:': 'g'}\n"
     ]
    }
   ],
   "source": [
    "dic={}\n",
    "dic['name:']=input(\"Enter your name:\")\n",
    "dic['age:']=int(input(\"Enter your age:\"))\n",
    "dic['color:']=input(\"Enter your color:\")\n",
    "print(dic)"
   ]
  },
  {
   "cell_type": "code",
   "execution_count": 25,
   "id": "ad66f2c7-2f80-4cf0-9f68-f7461d9abd0b",
   "metadata": {},
   "outputs": [
    {
     "name": "stdout",
     "output_type": "stream",
     "text": [
      "Words with an odd number of characters:\n",
      "['apple', 'fig', 'grape']\n"
     ]
    }
   ],
   "source": [
    "\n",
    "words = [\"apple\", \"banana\", \"cherry\", \"date\", \"fig\", \"grape\", \"kiwi\"]\n",
    "odd_words = [word for word in words if len(word) % 2 != 0]\n",
    "print(\"Words with an odd number of characters:\")\n",
    "print(odd_words)\n",
    "\n"
   ]
  },
  {
   "cell_type": "code",
   "execution_count": null,
   "id": "f1a71d74-7b3a-491c-90ec-4c456497feed",
   "metadata": {},
   "outputs": [],
   "source": []
  }
 ],
 "metadata": {
  "kernelspec": {
   "display_name": "Python [conda env:base] *",
   "language": "python",
   "name": "conda-base-py"
  },
  "language_info": {
   "codemirror_mode": {
    "name": "ipython",
    "version": 3
   },
   "file_extension": ".py",
   "mimetype": "text/x-python",
   "name": "python",
   "nbconvert_exporter": "python",
   "pygments_lexer": "ipython3",
   "version": "3.12.7"
  }
 },
 "nbformat": 4,
 "nbformat_minor": 5
}
